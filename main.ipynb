{
 "cells": [
  {
   "cell_type": "code",
   "execution_count": 1,
   "metadata": {},
   "outputs": [
    {
     "name": "stdout",
     "output_type": "stream",
     "text": [
      "importing Jupyter notebook from Authentication.ipynb\n"
     ]
    },
    {
     "data": {
      "text/plain": [
       "True"
      ]
     },
     "execution_count": 1,
     "metadata": {},
     "output_type": "execute_result"
    }
   ],
   "source": [
    "import import_ipynb, re, requests, json\n",
    "import Authentication\n",
    "from config import ServerConfig\n",
    "from config import AuthConfig\n",
    "\n",
    "hash_list = []\n",
    "server_list = []\n",
    "notList = []\n",
    "url_pattern = re.compile(\"^(http:\\/\\/|https:\\/\\/)+[a-z0-9]+([\\-\\.]{1}[a-z0-9]+)*\\.[a-z]{2,5}(:[0-9]{1,5})?(\\/.*)?(?<!\\/)$\")\n",
    "for server in ServerConfig.server_list:\n",
    "    if url_pattern.match(server[1]):\n",
    "        server_list.append(Authentication.Server(server[0], server[1]))\n",
    "    else:\n",
    "        if server[1].endswith(\"/\"):\n",
    "            raise Exception('Improper URL found (URL ends with slash). URL: {}'.format(server[1]))\n",
    "        else:\n",
    "            raise Exception('Improper URL found. URL: {}'.format(server[1]))\n",
    "\n",
    "events_api = \"/fapi/query/hunt-v2/events?\"\n",
    "\n",
    "\n",
    "server = server_list[server_list.index(\"S1 Server\")]\n",
    "Authentication.load_authentication(server)"
   ]
  },
  {
   "cell_type": "code",
   "execution_count": 2,
   "metadata": {},
   "outputs": [
    {
     "name": "stdout",
     "output_type": "stream",
     "text": [
      "S1 Server\n"
     ]
    }
   ],
   "source": [
    "print(server_list[0])"
   ]
  },
  {
   "cell_type": "code",
   "execution_count": 3,
   "metadata": {},
   "outputs": [
    {
     "name": "stdout",
     "output_type": "stream",
     "text": [
      "https://s1.managedpdr.csintelligence.asia\n"
     ]
    }
   ],
   "source": [
    "print(server_list[0].url)"
   ]
  },
  {
   "cell_type": "code",
   "execution_count": 4,
   "metadata": {},
   "outputs": [
    {
     "data": {
      "text/plain": [
       "'https://s1.managedpdr.csintelligence.asia/fapi/query/hunt-v2/events?'"
      ]
     },
     "execution_count": 4,
     "metadata": {},
     "output_type": "execute_result"
    }
   ],
   "source": [
    "server_list[0].url + events_api"
   ]
  },
  {
   "cell_type": "code",
   "execution_count": 5,
   "metadata": {},
   "outputs": [],
   "source": [
    "\n",
    "def getResponse(eventTypeArray, startTime, endTime,orQueryList, notQueryList):\n",
    "    networkRelatedEvents ={\"query\":{\"andQuery\":[[\"$$maia$$.eventType\",eventTypeArray],[\"$$maia$$.happenedBefore\", startTime], [\"$$maia$$.happenedAfter\", endTime]],\"orQuery\":orQueryList,\"notQuery\":notQueryList,\"huntQueryVersion\":\"1.0.0\"}}\n",
    "    \n",
    "    response = requests.post(server_list[0].url + events_api, json = networkRelatedEvents\n",
    ", headers=server.header, cookies=server.cookie)\n",
    "  #  print(json.loads(response.text)[\"remainingItems\"])\n",
    "    return json.loads(response.text)\n"
   ]
  },
  {
   "cell_type": "code",
   "execution_count": 6,
   "metadata": {},
   "outputs": [],
   "source": [
    "def getSignersInPage():\n",
    "    signer_list = []\n",
    "    signerFlag = False\n",
    "    signerArrayIndex = 0\n",
    "    jsonResult = getResponse([8], \"2020-02-13T15:59:59.316Z\", \"2020-02-12T16:00:00.316Z\",[[\"$$maia$$.filename\",[\"*\"]]], notList)\n",
    "    for event in jsonResult[\"result\"]:\n",
    "        if \"certInfo\" in event[\"payload\"][\"process\"][\"program\"]:\n",
    "            curr_signer = event[\"payload\"][\"process\"][\"program\"][\"certInfo\"][\"signer\"]\n",
    "            if curr_signer not in signer_list:\n",
    "                signer_list.append(curr_signer)\n",
    "                \n",
    "    return signer_list\n",
    "       # elif \"remoteAddr\" in event[\"payload\"][\"data\"]:\n",
    "       #     if event[\"payload\"][\"data\"][\"outbound\"] == False:\n",
    "       #         ipList.append(event[\"payload\"][\"data\"][\"localAddr\"])\n",
    "       #     else:\n",
    "       #         ipList.append(event[\"payload\"][\"data\"][\"remoteAddr\"])\n",
    "       #     \n",
    "       # elif \"queryName\" in event[\"payload\"][\"data\"]:\n",
    "       #     dnsList.append(event[\"payload\"][\"data\"][\"queryName\"])   \n",
    "        \n",
    "    #if len(signer_list) > 0 and signerFlag == False:\n",
    "    #    notList.append([\"signer\",[]])\n",
    "    #    signerArrayIndex = len(notList) - 1\n",
    "    #    signerFlag = True\n",
    "    \n",
    "    #if len(ipList) > 0 and ipFlag == False:\n",
    "    #    notList.append([\"ip.dst\",[]])\n",
    "    #    ipArrayIndex = len(notList) - 1\n",
    "    #    ipFlag = True\n",
    "    #    \n",
    "    #if len(dnsList) > 0 and dnsFlag == False:\n",
    "    #    notList.append([\"dns\",[]])\n",
    "    #    dnsArrayIndex = len(notList) - 1\n",
    "    #    dnsFlag = True\n",
    "    #    \n",
    "    #for signer in signer_list:\n",
    "    #    if signer not in notList[signerArrayIndex][1]:\n",
    "    #        notList[signerArrayIndex][1].append(signer)\n",
    "    #for ip in ipList:\n",
    "    #    if ip not in notList[ipArrayIndex][1]:\n",
    "    #        notList[ipArrayIndex][1].append(ip)\n",
    "    #for dns in dnsList:\n",
    "    #    if dns not in notList[dnsArrayIndex][1]:\n",
    "    #        notList[dnsArrayIndex][1].append(dns)\n",
    "            \n",
    "    #return jsonResult[\"remainingItems\"]"
   ]
  },
  {
   "cell_type": "code",
   "execution_count": 7,
   "metadata": {},
   "outputs": [
    {
     "name": "stdout",
     "output_type": "stream",
     "text": [
      "['Microsoft Windows']\n"
     ]
    }
   ],
   "source": [
    "print(getSignersInPage())"
   ]
  },
  {
   "cell_type": "code",
   "execution_count": 13,
   "metadata": {},
   "outputs": [],
   "source": [
    "def getAllEventsSinglePageSigner(signer, notQuery = []):\n",
    "    notQueryList = []\n",
    "    md5List = []\n",
    "    sha1List = []\n",
    "    sha256List = []\n",
    "    md5Index = None\n",
    "    sha1Index = None\n",
    "    sha256Index = None\n",
    "    \n",
    "    if notQuery != []:    \n",
    "        for field in notQuery:\n",
    "            if field[0] == \"$$maia$$.md5\":\n",
    "                md5Index = notQuery.index(field)\n",
    "            elif field[0] == \"$$maia$$.sha1\":\n",
    "                sha1Index = notQuery.index(field)\n",
    "            elif field[0] == \"$$maia$$.sha256\":\n",
    "                sha256Index = notQuery.index(field)\n",
    "    \n",
    "    if md5Index != None:\n",
    "        md5List = notQuery[md5Index][1]\n",
    "    if sha1Index != None:\n",
    "        sha1List = notQuery[sha1Index][1]\n",
    "    if sha256Index != None:\n",
    "        sha256List = notQuery[sha256Index][1]\n",
    "        \n",
    "    jsonResult = getResponse([8], \"2020-02-13T15:59:59.316Z\", \"2020-02-12T16:00:00.316Z\",[[\"signer\",[signer]]], notQuery)\n",
    "    for event in jsonResult[\"result\"]:\n",
    "        print(event)\n",
    "        break\n",
    "        if \"process\" in event[\"payload\"]:\n",
    "            if \"md5\" in event[\"payload\"][\"process\"][\"program\"]:\n",
    "                if event[\"payload\"][\"process\"][\"program\"][\"md5\"] not in md5List:\n",
    "                    md5List.append(event[\"payload\"][\"process\"][\"program\"][\"md5\"])\n",
    "            elif \"sha1\" in event[\"payload\"][\"process\"][\"program\"]:\n",
    "                if event[\"payload\"][\"process\"][\"program\"][\"sha1\"] not in sha1List:\n",
    "                    sha1List.append(event[\"payload\"][\"process\"][\"program\"][\"sha1\"])\n",
    "            elif \"sha256\" in event[\"payload\"][\"process\"][\"program\"]:\n",
    "                if event[\"payload\"][\"process\"][\"program\"][\"sha256\"] not in sha256List:\n",
    "                    sha256List.append(event[\"payload\"][\"process\"][\"program\"][\"sha256\"])\n",
    "    \n",
    "    if md5List != []:\n",
    "        notQueryList.append([\"$$maia$$.md5\", md5List])\n",
    "    if sha1List != []:\n",
    "        notQueryList.append([\"$$maia$$.sha1\", sha1List])\n",
    "    if sha256List != []:\n",
    "        notQueryList.append([\"$$maia$$.sha256\", sha256List])\n",
    "    \n",
    "    #print(md5List)\n",
    "    return notQueryList, jsonResult[\"remainingItems\"]\n",
    "    #getAllHashesFromSigner(signer, notQueryList)\n",
    "    "
   ]
  },
  {
   "cell_type": "code",
   "execution_count": 9,
   "metadata": {},
   "outputs": [],
   "source": [
    "def getAllEventsUnderSigner(signer):\n",
    "    remaining = 1\n",
    "    notList = []\n",
    "    while remaining > 0:\n",
    "        notList, remaining = getAllEventsSinglePageSigner(signer, notList)\n",
    "    return notList"
   ]
  },
  {
   "cell_type": "code",
   "execution_count": 10,
   "metadata": {},
   "outputs": [],
   "source": [
    "def getIndividualHashCount(hashType, hashValue):\n",
    "    jsonResult = getResponse([8], \"2020-02-13T15:59:59.316Z\", \"2020-02-12T16:00:00.316Z\",[[hashType,[hashValue]]], [])\n",
    "    if jsonResult[\"remainingItems\"] > 0:\n",
    "        return jsonResult[\"remainingItems\"] + 20\n",
    "    else:\n",
    "        return len(jsonResult[\"result\"])"
   ]
  },
  {
   "cell_type": "code",
   "execution_count": 11,
   "metadata": {},
   "outputs": [],
   "source": [
    "def getSignerHashListCounts(hashList):\n",
    "    for hashset in hashList:\n",
    "        for eachHash in hashset[1]:\n",
    "            print(eachHash + \":\" + str(getIndividualHashCount(hashset[0], eachHash)))"
   ]
  },
  {
   "cell_type": "code",
   "execution_count": 12,
   "metadata": {},
   "outputs": [
    {
     "name": "stdout",
     "output_type": "stream",
     "text": [
      "750446ed76a5d13e902174dddda1a62b:18\n",
      "dd7423abbe2913e70d50e9318ad57ee4:9\n",
      "79b804e8a81bfd9c6a3749b4f3ee86e2:13\n",
      "a8fd9222e4d72596bb37da8be95c0ba4:6\n",
      "d815683853a11eb0dbeec3941c11c75d:2\n",
      "605ccc9ce1839bc5583017df7cae27a6:7\n",
      "0545a3eb959cfa4790d267bfb8c1aca4:3\n"
     ]
    }
   ],
   "source": [
    "getSignerHashListCounts(getAllFileNameHashesUnderSigner(\"Google Inc\"))"
   ]
  },
  {
   "cell_type": "code",
   "execution_count": 14,
   "metadata": {},
   "outputs": [
    {
     "name": "stdout",
     "output_type": "stream",
     "text": [
      "{'eventId': '566270928325967873', 'endpointId': '512502869702737920', 'payload': {'localId': '566270928170780673', 'process': {'id': '512502869702737920:7400:1581609509691', 'parentId': '512502869702737920:904:1580785685628', 'endpointId': '512502869702737920', 'program': {'path': 'c:\\\\users\\\\dickson.teo\\\\appdata\\\\local\\\\google\\\\update\\\\googleupdate.exe', 'filename': 'googleupdate.exe', 'md5': '750446ed76a5d13e902174dddda1a62b', 'sha1': '9d04597f8cfc8841dfa876487de965c0f05708ca', 'sha256': 'f67355a6659e21d8d97e6982b28f22453f8c298e822e27faddb440da4a6de7c0', 'certInfo': {'signer': 'Google Inc', 'issuer': 'VeriSign Class 3 Code Signing 2010 CA', 'trusted': True, 'expired': True}, 'size': 154440, 'arch': 'x32', 'fsName': 'googleupdate.exe'}, 'user': 'HGPSVR\\\\dickson.teo', 'pid': 7400, 'startTime': '2020-02-13T15:58:29.691Z', 'ppid': 904, 'pstartTime': '2020-02-04T03:08:05.628Z', 'userSID': 'S-1-5-21-1545398807-1586680928-1461412557-1660', 'privilegeLevel': 'MEDIUM', 'noGui': True}, 'incidents': [], 'triggeredIncidents': [], 'data': {'addressFamily': 0, 'protocol': 0, 'localAddr': '192.168.1.149', 'localPort': 57909, 'remoteAddr': '172.253.118.94', 'remotePort': 443, 'outbound': True}, 'eventType': 8}, 'receivedAt': '2020-02-13T15:58:30.118Z', 'happenedAt': '2020-02-13T15:58:30.081Z', 'endpointDetails': {'hvStatus': -7, 'machineId': '78a46152475cb7df82de10ca5a761e5743281673554ce92d3f95e47daf3a9113', 'domain': 'hgpsvr.local', 'macs': ['30:85:a9:a8:c7:fa'], 'os': 'Windows 7 Professional', 'lastSeenAt': '2020-02-17T14:52:56.897Z', 'sessionEnd': '2020-02-17T14:57:56.897Z', 'isVirtualMachine': False, 'registrationTime': '2019-09-18T07:03:25.985Z', 'connected': True, 'isDomainController': False, 'name': 'FO-2', 'sessionStart': '2020-02-04T03:08:14.563Z', 'isServer': False, 'cpuVendor': 1, 'endpointId': '512502869702737920', 'disconnectionReason': 0, 'state': 1, 'componentsVersions': [{'name': 'keeper', 'version': '2.0.3', 'build': '62.1551253563368.commit'}, {'name': 'probos', 'version': '2.0.1', 'build': '2.0.1'}, {'name': 'rqtsentry', 'version': '2.0.5', 'build': '90.1551263991257.commit'}, {'name': 'rqtnetsentry', 'version': '2.0.0', 'build': '35.1543842077371.commit'}, {'name': 'installer', 'version': '2.0.5', 'build': ''}], 'agentVersion': '2.0.5', 'groups': [{'endpointGroupId': '500476228663246855', 'name': 'Hotel Grand Pacific'}], 'arch': 2, 'tags': [], 'isolated': False, 'cpuDescr': 'Intel(R) Core(TM) i7-3770 CPU @ 3.40GHz', 'localAddr': '192.168.1.149', 'kernel': '6.1', 'osType': 1}, 'eventDetails': {'eventId': '566270928325967873', 'endpointId': '512502869702737920', 'payload': {'localId': '566270928170780673', 'process': {'id': '512502869702737920:7400:1581609509691', 'parentId': '512502869702737920:904:1580785685628', 'endpointId': '512502869702737920', 'program': {'path': 'c:\\\\users\\\\dickson.teo\\\\appdata\\\\local\\\\google\\\\update\\\\googleupdate.exe', 'filename': 'googleupdate.exe', 'md5': '750446ed76a5d13e902174dddda1a62b', 'sha1': '9d04597f8cfc8841dfa876487de965c0f05708ca', 'sha256': 'f67355a6659e21d8d97e6982b28f22453f8c298e822e27faddb440da4a6de7c0', 'certInfo': {'signer': 'Google Inc', 'issuer': 'VeriSign Class 3 Code Signing 2010 CA', 'trusted': True, 'expired': True}, 'size': 154440, 'arch': 'x32', 'fsName': 'googleupdate.exe'}, 'user': 'HGPSVR\\\\dickson.teo', 'pid': 7400, 'startTime': '2020-02-13T15:58:29.691Z', 'ppid': 904, 'pstartTime': '2020-02-04T03:08:05.628Z', 'userSID': 'S-1-5-21-1545398807-1586680928-1461412557-1660', 'privilegeLevel': 'MEDIUM', 'noGui': True}, 'incidents': [], 'triggeredIncidents': [], 'data': {'addressFamily': 0, 'protocol': 0, 'localAddr': '192.168.1.149', 'localPort': 57909, 'remoteAddr': '172.253.118.94', 'remotePort': 443, 'outbound': True}, 'eventType': 8}, 'receivedAt': '2020-02-13T15:58:30.118Z', 'happenedAt': '2020-02-13T15:58:30.081Z', 'id': '566270928325967873'}}\n"
     ]
    },
    {
     "data": {
      "text/plain": [
       "([], 38)"
      ]
     },
     "execution_count": 14,
     "metadata": {},
     "output_type": "execute_result"
    }
   ],
   "source": [
    "getAllEventsSinglePageSigner(\"Google Inc\")"
   ]
  },
  {
   "cell_type": "code",
   "execution_count": null,
   "metadata": {},
   "outputs": [],
   "source": []
  }
 ],
 "metadata": {
  "kernelspec": {
   "display_name": "Python 3",
   "language": "python",
   "name": "python3"
  },
  "language_info": {
   "codemirror_mode": {
    "name": "ipython",
    "version": 3
   },
   "file_extension": ".py",
   "mimetype": "text/x-python",
   "name": "python",
   "nbconvert_exporter": "python",
   "pygments_lexer": "ipython3",
   "version": "3.7.4"
  }
 },
 "nbformat": 4,
 "nbformat_minor": 4
}
