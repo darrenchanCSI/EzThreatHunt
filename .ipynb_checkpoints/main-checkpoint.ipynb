{
 "cells": [
  {
   "cell_type": "code",
   "execution_count": 1,
   "metadata": {},
   "outputs": [
    {
     "name": "stdout",
     "output_type": "stream",
     "text": [
      "importing Jupyter notebook from Authentication.ipynb\n"
     ]
    },
    {
     "data": {
      "text/plain": [
       "True"
      ]
     },
     "execution_count": 1,
     "metadata": {},
     "output_type": "execute_result"
    }
   ],
   "source": [
    "import import_ipynb, re, requests, json\n",
    "import Authentication\n",
    "from config import ServerConfig\n",
    "from config import AuthConfig\n",
    "\n",
    "hash_list = []\n",
    "server_list = []\n",
    "notList = []\n",
    "url_pattern = re.compile(\"^(http:\\/\\/|https:\\/\\/)+[a-z0-9]+([\\-\\.]{1}[a-z0-9]+)*\\.[a-z]{2,5}(:[0-9]{1,5})?(\\/.*)?(?<!\\/)$\")\n",
    "for server in ServerConfig.server_list:\n",
    "    if url_pattern.match(server[1]):\n",
    "        server_list.append(Authentication.Server(server[0], server[1]))\n",
    "    else:\n",
    "        if server[1].endswith(\"/\"):\n",
    "            raise Exception('Improper URL found (URL ends with slash). URL: {}'.format(server[1]))\n",
    "        else:\n",
    "            raise Exception('Improper URL found. URL: {}'.format(server[1]))\n",
    "\n",
    "events_api = \"/fapi/query/hunt-v2/events?\"\n",
    "\n",
    "\n",
    "server = server_list[server_list.index(\"S1 Server\")]\n",
    "Authentication.load_authentication(server)"
   ]
  },
  {
   "cell_type": "code",
   "execution_count": 2,
   "metadata": {},
   "outputs": [
    {
     "name": "stdout",
     "output_type": "stream",
     "text": [
      "S1 Server\n"
     ]
    }
   ],
   "source": [
    "print(server_list[0])"
   ]
  },
  {
   "cell_type": "code",
   "execution_count": 3,
   "metadata": {},
   "outputs": [
    {
     "name": "stdout",
     "output_type": "stream",
     "text": [
      "https://s1.managedpdr.csintelligence.asia\n"
     ]
    }
   ],
   "source": [
    "print(server_list[0].url)"
   ]
  },
  {
   "cell_type": "code",
   "execution_count": 4,
   "metadata": {},
   "outputs": [
    {
     "data": {
      "text/plain": [
       "'https://s1.managedpdr.csintelligence.asia/fapi/query/hunt-v2/events?'"
      ]
     },
     "execution_count": 4,
     "metadata": {},
     "output_type": "execute_result"
    }
   ],
   "source": [
    "server_list[0].url + events_api"
   ]
  },
  {
   "cell_type": "code",
   "execution_count": 5,
   "metadata": {},
   "outputs": [],
   "source": [
    "\n",
    "def getResponse(eventTypeArray, startTime, endTime,orQueryList, notQueryList):\n",
    "    networkRelatedEvents ={\"query\":{\"andQuery\":[[\"$$maia$$.eventType\",eventTypeArray],[\"$$maia$$.happenedBefore\", startTime], [\"$$maia$$.happenedAfter\", endTime]],\"orQuery\":orQueryList,\"notQuery\":notQueryList,\"huntQueryVersion\":\"1.0.0\"}}\n",
    "    \n",
    "    response = requests.post(server_list[0].url + events_api, json = networkRelatedEvents\n",
    ", headers=server.header, cookies=server.cookie)\n",
    "    print(json.loads(response.text)[\"remainingItems\"])\n",
    "    return json.loads(response.text)\n"
   ]
  },
  {
   "cell_type": "code",
   "execution_count": 6,
   "metadata": {},
   "outputs": [],
   "source": [
    "def getSignersInPage():\n",
    "    signer_list = []\n",
    "    signerFlag = False\n",
    "    signerArrayIndex = 0\n",
    "    jsonResult = getResponse([8], \"2020-02-13T15:59:59.316Z\", \"2020-02-12T16:00:00.316Z\",[[\"$$maia$$.filename\",[\"*\"]]], notList)\n",
    "    for event in jsonResult[\"result\"]:\n",
    "        if \"certInfo\" in event[\"payload\"][\"process\"][\"program\"]:\n",
    "            curr_signer = event[\"payload\"][\"process\"][\"program\"][\"certInfo\"][\"signer\"]\n",
    "            if curr_signer not in signer_list:\n",
    "                signer_list.append(curr_signer)\n",
    "                \n",
    "    return signer_list\n",
    "       # elif \"remoteAddr\" in event[\"payload\"][\"data\"]:\n",
    "       #     if event[\"payload\"][\"data\"][\"outbound\"] == False:\n",
    "       #         ipList.append(event[\"payload\"][\"data\"][\"localAddr\"])\n",
    "       #     else:\n",
    "       #         ipList.append(event[\"payload\"][\"data\"][\"remoteAddr\"])\n",
    "       #     \n",
    "       # elif \"queryName\" in event[\"payload\"][\"data\"]:\n",
    "       #     dnsList.append(event[\"payload\"][\"data\"][\"queryName\"])   \n",
    "        \n",
    "    #if len(signer_list) > 0 and signerFlag == False:\n",
    "    #    notList.append([\"signer\",[]])\n",
    "    #    signerArrayIndex = len(notList) - 1\n",
    "    #    signerFlag = True\n",
    "    \n",
    "    #if len(ipList) > 0 and ipFlag == False:\n",
    "    #    notList.append([\"ip.dst\",[]])\n",
    "    #    ipArrayIndex = len(notList) - 1\n",
    "    #    ipFlag = True\n",
    "    #    \n",
    "    #if len(dnsList) > 0 and dnsFlag == False:\n",
    "    #    notList.append([\"dns\",[]])\n",
    "    #    dnsArrayIndex = len(notList) - 1\n",
    "    #    dnsFlag = True\n",
    "    #    \n",
    "    #for signer in signer_list:\n",
    "    #    if signer not in notList[signerArrayIndex][1]:\n",
    "    #        notList[signerArrayIndex][1].append(signer)\n",
    "    #for ip in ipList:\n",
    "    #    if ip not in notList[ipArrayIndex][1]:\n",
    "    #        notList[ipArrayIndex][1].append(ip)\n",
    "    #for dns in dnsList:\n",
    "    #    if dns not in notList[dnsArrayIndex][1]:\n",
    "    #        notList[dnsArrayIndex][1].append(dns)\n",
    "            \n",
    "    #return jsonResult[\"remainingItems\"]"
   ]
  },
  {
   "cell_type": "code",
   "execution_count": 7,
   "metadata": {},
   "outputs": [
    {
     "name": "stdout",
     "output_type": "stream",
     "text": [
      "1134129\n",
      "['Microsoft Windows', 'Microsoft Corporation']\n"
     ]
    }
   ],
   "source": [
    "print(getSignersInPage())"
   ]
  },
  {
   "cell_type": "code",
   "execution_count": 52,
   "metadata": {},
   "outputs": [],
   "source": [
    "def getAllHashesFromSigner(signer, notQuery = []):\n",
    "    notQueryList = []\n",
    "    md5List = []\n",
    "    sha1List = []\n",
    "    sha256List = []\n",
    "    md5Index = None\n",
    "    sha1Index = None\n",
    "    sha256Index = None\n",
    "    \n",
    "    if notQuery != []:    \n",
    "        for field in notQuery:\n",
    "            if field[0] == \"$$maia$$.md5\":\n",
    "                md5Index = notQuery.index(field)\n",
    "            elif field[0] == \"$$maia$$.sha1\":\n",
    "                sha1Index = notQuery.index(field)\n",
    "            elif field[0] == \"$$maia$$.sha256\":\n",
    "                sha256Index = notQuery.index(field)\n",
    "    \n",
    "    if md5Index != None:\n",
    "        md5List = notQuery[md5Index][1]\n",
    "    if sha1Index != None:\n",
    "        sha1List = notQuery[sha1Index][1]\n",
    "    if sha256Index != None:\n",
    "        sha256List = notQuery[sha256Index][1]\n",
    "        \n",
    "    jsonResult = getResponse([8], \"2020-02-13T15:59:59.316Z\", \"2020-02-12T16:00:00.316Z\",[[\"signer\",[signer]]], notQuery)\n",
    "    for event in jsonResult[\"result\"]:\n",
    "        if \"process\" in event[\"payload\"]:\n",
    "            if \"md5\" in event[\"payload\"][\"process\"][\"program\"]:\n",
    "                if event[\"payload\"][\"process\"][\"program\"][\"md5\"] not in md5List:\n",
    "                    md5List.append(event[\"payload\"][\"process\"][\"program\"][\"md5\"])\n",
    "            elif \"sha1\" in event[\"payload\"][\"process\"][\"program\"]:\n",
    "                if event[\"payload\"][\"process\"][\"program\"][\"sha1\"] not in sha1List:\n",
    "                    sha1List.append(event[\"payload\"][\"process\"][\"program\"][\"sha1\"])\n",
    "            elif \"sha256\" in event[\"payload\"][\"process\"][\"program\"]:\n",
    "                if event[\"payload\"][\"process\"][\"program\"][\"sha256\"] not in sha256List:\n",
    "                    sha256List.append(event[\"payload\"][\"process\"][\"program\"][\"sha256\"])\n",
    "    \n",
    "    if md5List != []:\n",
    "        notQueryList.append([\"$$maia$$.md5\", md5List])\n",
    "    if sha1List != []:\n",
    "        notQueryList.append([\"$$maia$$.sha1\", sha1List])\n",
    "    if sha256List != []:\n",
    "        notQueryList.append([\"$$maia$$.sha256\", sha256List])\n",
    "    \n",
    "    #print(md5List)\n",
    "    return notQueryList\n",
    "    print(jsonResult[\"remainingItems\"])\n",
    "    #getAllHashesFromSigner(signer, notQueryList)\n",
    "    "
   ]
  },
  {
   "cell_type": "code",
   "execution_count": 59,
   "metadata": {},
   "outputs": [
    {
     "name": "stdout",
     "output_type": "stream",
     "text": [
      "[['$$maia$$.md5', ['9520a99e77d6196d0d09833146424113', 'c78655bc80301d76ed4fef1c1ea40a7d', '8a0a29438052faed8a2532da50455756', '4e196cea0c9c46a7d656c67e52e8c7c7', 'ec33410637c7cc23f4e7bd425e743d6a', 'd0432468fa4b7f66166c430e1334dbda', '0861726716c9610ce5f6bcf3f4858da1', 'e3a2ad05e24105b35e986cf9cb38ec47', '36f670d89040709013f6a460176767ec', '17e650e888d57ab51e9c3494e49a2045', '440684c4f823aae2cc587363f9c477a6']]]\n",
      "40440\n"
     ]
    },
    {
     "data": {
      "text/plain": [
       "[['$$maia$$.md5',\n",
       "  ['9520a99e77d6196d0d09833146424113',\n",
       "   'c78655bc80301d76ed4fef1c1ea40a7d',\n",
       "   '8a0a29438052faed8a2532da50455756',\n",
       "   '4e196cea0c9c46a7d656c67e52e8c7c7',\n",
       "   'ec33410637c7cc23f4e7bd425e743d6a',\n",
       "   'd0432468fa4b7f66166c430e1334dbda',\n",
       "   '0861726716c9610ce5f6bcf3f4858da1',\n",
       "   'e3a2ad05e24105b35e986cf9cb38ec47',\n",
       "   '36f670d89040709013f6a460176767ec',\n",
       "   '17e650e888d57ab51e9c3494e49a2045',\n",
       "   '440684c4f823aae2cc587363f9c477a6',\n",
       "   '54a47f6b5e09a77e61649109c6a08866',\n",
       "   '6bdb3091562e7dd2c877472286b6cc46',\n",
       "   '917fa7195bb7d3307bdf21acca5fa049',\n",
       "   '23e47ce30cfc49f60a6e24b50aa83b9b',\n",
       "   'ede27eace742ee2888c5dd36400a2ec0',\n",
       "   'edb7310e307174a6bdf0dd8fdf366464',\n",
       "   '2f50120369617267f94c0a139542eb7c',\n",
       "   'fca696b4660bdd072036ac3c484deb1d']]]"
      ]
     },
     "execution_count": 59,
     "metadata": {},
     "output_type": "execute_result"
    }
   ],
   "source": [
    "getAllHashesFromSigner(\"Microsoft Windows\", [['$$maia$$.md5',\n",
    "  ['9520a99e77d6196d0d09833146424113',\n",
    "   'c78655bc80301d76ed4fef1c1ea40a7d',\n",
    "   '8a0a29438052faed8a2532da50455756',\n",
    "   '4e196cea0c9c46a7d656c67e52e8c7c7',\n",
    "   'ec33410637c7cc23f4e7bd425e743d6a',\n",
    "   'd0432468fa4b7f66166c430e1334dbda',\n",
    "   '0861726716c9610ce5f6bcf3f4858da1',\n",
    "   'e3a2ad05e24105b35e986cf9cb38ec47',\n",
    "   '36f670d89040709013f6a460176767ec',\n",
    "   '17e650e888d57ab51e9c3494e49a2045',\n",
    "   '440684c4f823aae2cc587363f9c477a6']]])"
   ]
  },
  {
   "cell_type": "code",
   "execution_count": null,
   "metadata": {},
   "outputs": [],
   "source": []
  },
  {
   "cell_type": "code",
   "execution_count": null,
   "metadata": {},
   "outputs": [],
   "source": []
  }
 ],
 "metadata": {
  "kernelspec": {
   "display_name": "Python 3",
   "language": "python",
   "name": "python3"
  },
  "language_info": {
   "codemirror_mode": {
    "name": "ipython",
    "version": 3
   },
   "file_extension": ".py",
   "mimetype": "text/x-python",
   "name": "python",
   "nbconvert_exporter": "python",
   "pygments_lexer": "ipython3",
   "version": "3.7.4"
  }
 },
 "nbformat": 4,
 "nbformat_minor": 4
}
