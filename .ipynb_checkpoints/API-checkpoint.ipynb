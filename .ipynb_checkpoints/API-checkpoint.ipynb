{
 "cells": [
  {
   "cell_type": "code",
   "execution_count": 1,
   "metadata": {},
   "outputs": [],
   "source": [
    "import requests\n",
    "import json\n",
    "from json import JSONDecodeError\n",
    "\n",
    "def api_request(server, url, request_type, data=None):\n",
    "    session = requests.session()\n",
    "    try:\n",
    "        if request_type == 'GET':\n",
    "            response = session.get(server.url + url, headers=server.header, cookies=server.cookie)\n",
    "        elif request_type == 'POST':\n",
    "            response = session.post(server.url + url, headers=server.header, cookies=server.cookie, data=data)\n",
    "        if response.status_code == 200:\n",
    "            if response.text != \"[]\":\n",
    "                try:\n",
    "                    return json.loads(response.text)\n",
    "                except JSONDecodeError:\n",
    "                    print(\"JSON Decode Error: Expected JSON, did not receive JSON from \" + server.url\n",
    "                          + url)\n",
    "            else:\n",
    "                print(\"Empty reply from \" + server.url + url)\n",
    "        else:\n",
    "            return None\n",
    "    except (\n",
    "            requests.exceptions.RequestException, requests.exceptions.ConnectionError,\n",
    "            requests.exceptions.ConnectTimeout):\n",
    "        return None\n",
    "    \n",
    "    \n",
    "# Works for getting incidents and endpoints. To be tested on other APIs.\n",
    "# Note: Not RAM efficient as it saves the JSON reply into memory.\n",
    "# TODO: Potentially the function save results to file to make it more efficient. \n",
    "def get_data(server, url, request_type='GET', data=None, url_params=None):\n",
    "    if url_params is None:\n",
    "        reply = api_request(server, url, request_type, data)\n",
    "    else:\n",
    "        reply = api_request(server, url + url_params, request_type, data)\n",
    "    data = []\n",
    "    if reply is not None:\n",
    "        if reply['data'] is not None:\n",
    "            data += reply['data']\n",
    "            #print(\"Remaining Items: {}\".format(reply['remainingItems']))\n",
    "            #print(\"Next Page: {}\".format(reply['nextPage']))\n",
    "            if reply['remainingItems'] != 0:\n",
    "                data += get_data(server, url, 'POST', '{\"nextPage\":\"' + reply['nextPage'] + '\"}')\n",
    "    return data"
   ]
  },
  {
   "cell_type": "code",
   "execution_count": null,
   "metadata": {},
   "outputs": [],
   "source": []
  }
 ],
 "metadata": {
  "kernelspec": {
   "display_name": "Python 3",
   "language": "python",
   "name": "python3"
  },
  "language_info": {
   "codemirror_mode": {
    "name": "ipython",
    "version": 3
   },
   "file_extension": ".py",
   "mimetype": "text/x-python",
   "name": "python",
   "nbconvert_exporter": "python",
   "pygments_lexer": "ipython3",
   "version": "3.7.4"
  }
 },
 "nbformat": 4,
 "nbformat_minor": 4
}
