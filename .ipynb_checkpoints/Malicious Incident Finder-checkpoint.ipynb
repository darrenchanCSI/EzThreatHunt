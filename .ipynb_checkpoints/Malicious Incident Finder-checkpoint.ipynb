{
 "cells": [
  {
   "cell_type": "code",
   "execution_count": 5,
   "metadata": {},
   "outputs": [
    {
     "data": {
      "text/plain": [
       "True"
      ]
     },
     "execution_count": 5,
     "metadata": {},
     "output_type": "execute_result"
    }
   ],
   "source": [
    "import import_ipynb\n",
    "import Incidents\n",
    "import API\n",
    "import Authentication\n",
    "import json\n",
    "import re\n",
    "import IPython.display as display\n",
    "from config import ServerConfig\n",
    "from config import AuthConfig\n",
    "\n",
    "server_list = []\n",
    "url_pattern = re.compile(\"^(http:\\/\\/|https:\\/\\/)+[a-z0-9]+([\\-\\.]{1}[a-z0-9]+)*\\.[a-z]{2,5}(:[0-9]{1,5})?(\\/.*)?(?<!\\/)$\")\n",
    "for server in ServerConfig.server_list:\n",
    "    if url_pattern.match(server[1]):\n",
    "        server_list.append(Authentication.Server(server[0], server[1]))\n",
    "    else:\n",
    "        if server[1].endswith(\"/\"):\n",
    "            raise Exception('Improper URL found (URL ends with slash). URL: {}'.format(server[1]))\n",
    "        else:\n",
    "            raise Exception('Improper URL found. URL: {}'.format(server[1]))\n",
    "\n",
    "group_list_url = \"/fapi/profiling/groups/list?count=50\"\n",
    "malicious_search_url = \"/fapi/incidents/search?count=20&&fps=tp&\"\n",
    "\n",
    "\n",
    "server = server_list[server_list.index(\"S1 Server\")]\n",
    "Authentication.load_authentication(server)"
   ]
  },
  {
   "cell_type": "code",
   "execution_count": 6,
   "metadata": {},
   "outputs": [],
   "source": [
    "def get_groups(server):\n",
    "    groups = API.get_data(server, group_list_url)\n",
    "    for group in groups:\n",
    "        print(\"Found Group: {}\".format(group[\"name\"]))\n",
    "    return(groups)\n",
    "\n",
    "def get_malicious_incidents(server, group):\n",
    "    gids_modifier = \"&gid=\" + group[\"id\"] + \"&&happenedAfter=2019-11-30T16:00:00.000Z&\"\n",
    "    incidents = API.get_data(server, \"/fapi/incidents\", url_params = \"/search?count=20&&fps=tp&\"+gids_modifier)\n",
    "    return incidents"
   ]
  },
  {
   "cell_type": "code",
   "execution_count": 7,
   "metadata": {},
   "outputs": [
    {
     "name": "stdout",
     "output_type": "stream",
     "text": [
      "Found Group: BGC - Servers & VMs\n",
      "Found Group: BGC Group\n",
      "Found Group: blacklist - powershell.exe\n",
      "Found Group: Blacklist powershell\n",
      "Found Group: Blacklist Powershell\n",
      "Found Group: blacklist powershell-ihub\n",
      "Found Group: Cyclect (temp Holding)\n",
      "Found Group: Deluge - Servers & VMs\n",
      "Found Group: Deluge Fire Protection (SEA) Pte Ltd\n",
      "Found Group: Deluge Whitelist - msdt.exe\n",
      "Found Group: Deluge Whitelist - svchost.exe\n",
      "Found Group: Hotel Grand Pacific\n",
      "Found Group: iHub - Servers & VMs\n",
      "Found Group: iHub Solutions\n",
      "Found Group: iHub Whitelist - msdt.exe\n",
      "Found Group: iHub Whitelist - svchost.exe\n",
      "Found Group: Kambara Kisen\n",
      "Found Group: Mentor Media Ltd\n",
      "Found Group: SG - hpam\n",
      "Found Group: SG - jw\n",
      "Found Group: SG - mmh\n",
      "Found Group: SG - pj\n",
      "Found Group: SG - pj_aruba\n",
      "Found Group: Singapore\n",
      "Found Group: Solas Fiduciary Services\n",
      "Found Group: UMMS\n",
      "Found Group: UMMS Blacklist - niqkund64.exe\n",
      "Found Group: UMMS Blacklist - wscript.exe & powershell.exe\n",
      "Found Group: UMMS Whitelist - msdt.exe\n",
      "Found Group: UMMS Whitelist - svchost.exe\n",
      "Found Group: Union Marine\n",
      "Found Group: Whitelist - cmd.exe\n",
      "Found Group: Whitelist - wscript.exe\n"
     ]
    },
    {
     "data": {
      "application/json": [
       {
        "created": "2019-09-12T14:20:47.954Z",
        "deleted": false,
        "description": "For Ransomware Protection Policy",
        "endpointCount": 1,
        "endpointNamesPreview": [
         "BGCTS-MYOB"
        ],
        "id": "510438609325654023",
        "mobileEndpointsCount": 0,
        "name": "BGC - Servers & VMs",
        "parent": "498773480351727623",
        "regularEndpointsCount": 1,
        "users": []
       },
       {
        "created": "2019-08-11T09:47:44.479Z",
        "deleted": false,
        "endpointCount": 65,
        "endpointNamesPreview": [
         "LAP020",
         "COMP144",
         "LAP064"
        ],
        "id": "498773480351727623",
        "license": {
         "expiration": "2020-09-03T09:45:25.028Z",
         "limit": {
          "maxEndpointCount": 65,
          "maxMobileEndpointCount": 0
         }
        },
        "mobileEndpointsCount": 0,
        "name": "BGC Group",
        "regularEndpointsCount": 65,
        "users": []
       },
       {
        "created": "2019-11-21T10:52:53.352Z",
        "deleted": false,
        "endpointCount": 2,
        "endpointNamesPreview": [
         "LT1118-CECILIA",
         "PC2018-KARTIK"
        ],
        "id": "535753437644587015",
        "mobileEndpointsCount": 0,
        "name": "blacklist - powershell.exe",
        "parent": "471350445353205767",
        "regularEndpointsCount": 2,
        "users": []
       },
       {
        "created": "2019-12-12T01:53:03.457Z",
        "deleted": false,
        "endpointCount": 1,
        "endpointNamesPreview": [
         "DLPROJVIVEK"
        ],
        "id": "543227729756028935",
        "mobileEndpointsCount": 0,
        "name": "Blacklist powershell",
        "parent": "425119655527448583",
        "regularEndpointsCount": 1,
        "users": []
       },
       {
        "created": "2019-12-18T11:00:37.397Z",
        "deleted": false,
        "endpointCount": 1,
        "endpointNamesPreview": [
         "DFPPROJ-L004SYE"
        ],
        "id": "545539856361586695",
        "mobileEndpointsCount": 0,
        "name": "Blacklist Powershell",
        "parent": "425119655527448583",
        "regularEndpointsCount": 1,
        "users": []
       },
       {
        "created": "2019-11-21T10:52:03.120Z",
        "deleted": false,
        "endpointCount": 0,
        "endpointNamesPreview": [],
        "id": "535753226956308487",
        "mobileEndpointsCount": 0,
        "name": "blacklist powershell-ihub",
        "parent": "471350445353205767",
        "regularEndpointsCount": 0,
        "users": []
       },
       {
        "created": "2019-12-24T13:47:46.982Z",
        "deleted": false,
        "endpointCount": 0,
        "endpointNamesPreview": [],
        "id": "547756250683670535",
        "license": {
         "expiration": "2020-09-28T13:47:36.559Z",
         "limit": {
          "maxEndpointCount": 110,
          "maxMobileEndpointCount": 0
         }
        },
        "mobileEndpointsCount": 0,
        "name": "Cyclect (temp Holding)",
        "regularEndpointsCount": 0,
        "users": []
       },
       {
        "created": "2019-09-12T14:16:57.812Z",
        "deleted": false,
        "description": "For Ransomware Protection Policy",
        "endpointCount": 6,
        "endpointNamesPreview": [
         "DFP-BS01",
         "DFP-ACCPAC",
         "DFP-ARCHIVE"
        ],
        "id": "510437644040142855",
        "mobileEndpointsCount": 0,
        "name": "Deluge - Servers & VMs",
        "parent": "425119655527448583",
        "regularEndpointsCount": 6,
        "users": []
       },
       {
        "created": "2019-01-20T03:53:44.219Z",
        "deleted": false,
        "endpointCount": 114,
        "endpointNamesPreview": [
         "DFPPROJ-L004FAA",
         "DFPADM-D04HL",
         "JANET-A83CM7JJ"
        ],
        "id": "425119655527448583",
        "license": {
         "expiration": "2020-04-07T03:47:21.775Z",
         "limit": {
          "maxEndpointCount": 250,
          "maxMobileEndpointCount": 0
         }
        },
        "mobileEndpointsCount": 0,
        "name": "Deluge Fire Protection (SEA) Pte Ltd",
        "regularEndpointsCount": 114,
        "users": [
         {
          "createdAt": "2019-01-20T03:55:04.897Z",
          "createdBy": "keeper@reaqta.com",
          "createdByClientId": "425119655527448583",
          "enabled": true,
          "firstName": "Deluge",
          "id": 3,
          "lastLogin": "2019-01-25T15:33:24.982Z",
          "lastName": "Fire",
          "lastSeenChangelog": null,
          "level": null,
          "required2fa": null,
          "role": {
           "id": 6,
           "name": "Restricted Super Administrator",
           "permissions": [
            {
             "id": 11,
             "name": "READ_REPORTS_RESTRICTED",
             "rolespermissions": {
              "createdAt": "2019-01-18T07:41:08.987Z",
              "permissionId": 11,
              "roleId": 6,
              "updatedAt": "2019-01-18T07:41:08.987Z"
             }
            },
            {
             "id": 10,
             "name": "WRITE_REPORTS_RESTRICTED",
             "rolespermissions": {
              "createdAt": "2019-01-18T07:41:08.987Z",
              "permissionId": 10,
              "roleId": 6,
              "updatedAt": "2019-01-18T07:41:08.987Z"
             }
            },
            {
             "id": 8,
             "name": "READ_RESTRICTED",
             "rolespermissions": {
              "createdAt": "2019-01-18T07:41:08.987Z",
              "permissionId": 8,
              "roleId": 6,
              "updatedAt": "2019-01-18T07:41:08.987Z"
             }
            },
            {
             "id": 6,
             "name": "WRITE_ENDPOINTS_RESTRICTED",
             "rolespermissions": {
              "createdAt": "2019-01-18T07:41:08.987Z",
              "permissionId": 6,
              "roleId": 6,
              "updatedAt": "2019-01-18T07:41:08.987Z"
             }
            },
            {
             "id": 4,
             "name": "WRITE_POLICIES_RESTRICTED",
             "rolespermissions": {
              "createdAt": "2019-01-18T07:41:08.987Z",
              "permissionId": 4,
              "roleId": 6,
              "updatedAt": "2019-01-18T07:41:08.987Z"
             }
            },
            {
             "id": 13,
             "name": "MANAGE_SETTINGS_RESTRICTED",
             "rolespermissions": {
              "createdAt": "2019-01-18T07:41:08.987Z",
              "permissionId": 13,
              "roleId": 6,
              "updatedAt": "2019-01-18T07:41:08.987Z"
             }
            },
            {
             "id": 14,
             "name": "AUDIT_RESTRICTED",
             "rolespermissions": {
              "createdAt": "2019-01-18T07:41:08.987Z",
              "permissionId": 14,
              "roleId": 6,
              "updatedAt": "2019-01-18T07:41:08.987Z"
             }
            }
           ]
          },
          "roleId": 6,
          "updatedAt": "2019-01-25T15:33:24.982Z",
          "username": "admin@deluge.com.sg",
          "usersgroups": {
           "createdAt": "2019-01-20T03:55:05.291Z",
           "groupId": 1,
           "updatedAt": "2019-01-20T03:55:05.291Z",
           "userId": 3
          },
          "usingTempPassword": null
         },
         {
          "createdAt": "2019-03-06T06:53:40.537Z",
          "createdBy": "gregory.tan@csintelligence.asia",
          "createdByClientId": "425119655527448583",
          "enabled": true,
          "firstName": "Deluge",
          "id": 24,
          "lastLogin": "2019-03-06T11:41:22.354Z",
          "lastName": "Test",
          "lastSeenChangelog": null,
          "level": null,
          "required2fa": null,
          "role": {
           "id": 5,
           "name": "Restricted Analyst",
           "permissions": [
            {
             "id": 8,
             "name": "READ_RESTRICTED",
             "rolespermissions": {
              "createdAt": "2019-01-18T07:41:07.826Z",
              "permissionId": 8,
              "roleId": 5,
              "updatedAt": "2019-01-18T07:41:07.826Z"
             }
            },
            {
             "id": 11,
             "name": "READ_REPORTS_RESTRICTED",
             "rolespermissions": {
              "createdAt": "2019-01-18T07:41:08.729Z",
              "permissionId": 11,
              "roleId": 5,
              "updatedAt": "2019-01-18T07:41:08.729Z"
             }
            }
           ]
          },
          "roleId": 5,
          "updatedAt": "2019-03-06T11:41:22.355Z",
          "username": "test@deluge.com.sg",
          "usersgroups": {
           "createdAt": "2019-03-06T06:53:40.903Z",
           "groupId": 1,
           "updatedAt": "2019-03-06T06:53:40.903Z",
           "userId": 24
          },
          "usingTempPassword": null
         },
         {
          "createdAt": "2019-03-06T11:20:37.810Z",
          "createdBy": "gregory.tan@csintelligence.asia",
          "createdByClientId": "425119655527448583",
          "enabled": true,
          "firstName": "Andy",
          "id": 25,
          "lastLogin": "2019-04-09T05:11:22.787Z",
          "lastName": "Lim",
          "lastSeenChangelog": null,
          "level": null,
          "required2fa": null,
          "role": {
           "id": 5,
           "name": "Restricted Analyst",
           "permissions": [
            {
             "id": 8,
             "name": "READ_RESTRICTED",
             "rolespermissions": {
              "createdAt": "2019-01-18T07:41:07.826Z",
              "permissionId": 8,
              "roleId": 5,
              "updatedAt": "2019-01-18T07:41:07.826Z"
             }
            },
            {
             "id": 11,
             "name": "READ_REPORTS_RESTRICTED",
             "rolespermissions": {
              "createdAt": "2019-01-18T07:41:08.729Z",
              "permissionId": 11,
              "roleId": 5,
              "updatedAt": "2019-01-18T07:41:08.729Z"
             }
            }
           ]
          },
          "roleId": 5,
          "updatedAt": "2019-04-09T05:11:22.787Z",
          "username": "andy.lim@deluge.com.sg",
          "usersgroups": {
           "createdAt": "2019-03-06T11:20:38.174Z",
           "groupId": 1,
           "updatedAt": "2019-03-06T11:20:38.174Z",
           "userId": 25
          },
          "usingTempPassword": null
         },
         {
          "createdAt": "2019-03-06T14:10:20.185Z",
          "createdBy": "gregory.tan@csintelligence.asia",
          "createdByClientId": "425119655527448583",
          "enabled": true,
          "firstName": "Eddie",
          "id": 26,
          "lastLogin": "2019-09-23T00:34:36.175Z",
          "lastName": "Chong",
          "lastSeenChangelog": null,
          "level": null,
          "required2fa": null,
          "role": {
           "id": 5,
           "name": "Restricted Analyst",
           "permissions": [
            {
             "id": 8,
             "name": "READ_RESTRICTED",
             "rolespermissions": {
              "createdAt": "2019-01-18T07:41:07.826Z",
              "permissionId": 8,
              "roleId": 5,
              "updatedAt": "2019-01-18T07:41:07.826Z"
             }
            },
            {
             "id": 11,
             "name": "READ_REPORTS_RESTRICTED",
             "rolespermissions": {
              "createdAt": "2019-01-18T07:41:08.729Z",
              "permissionId": 11,
              "roleId": 5,
              "updatedAt": "2019-01-18T07:41:08.729Z"
             }
            }
           ]
          },
          "roleId": 5,
          "updatedAt": "2019-09-23T00:34:36.175Z",
          "username": "eddie.chong@deluge.com.sg",
          "usersgroups": {
           "createdAt": "2019-03-06T14:10:20.532Z",
           "groupId": 1,
           "updatedAt": "2019-03-06T14:10:20.532Z",
           "userId": 26
          },
          "usingTempPassword": null
         }
        ]
       },
       {
        "created": "2019-09-20T07:02:03.014Z",
        "deleted": false,
        "endpointCount": 11,
        "endpointNamesPreview": [
         "DFPPROJ-LOO4ARU",
         "DFPPROJ-L004IH",
         "DDADMDEVIS"
        ],
        "id": "513227297449312263",
        "mobileEndpointsCount": 0,
        "name": "Deluge Whitelist - msdt.exe",
        "parent": "425119655527448583",
        "regularEndpointsCount": 11,
        "users": []
       },
       {
        "created": "2019-09-20T07:14:33.689Z",
        "deleted": false,
        "endpointCount": 1,
        "endpointNamesPreview": [
         "DOM-L003AA"
        ],
        "id": "513230446008467463",
        "mobileEndpointsCount": 0,
        "name": "Deluge Whitelist - svchost.exe",
        "parent": "425119655527448583",
        "regularEndpointsCount": 1,
        "users": []
       },
       {
        "created": "2019-08-16T02:33:51.312Z",
        "deleted": false,
        "endpointCount": 28,
        "endpointNamesPreview": [
         "HGP01",
         "FIN5",
         "FIN4"
        ],
        "id": "500476228663246855",
        "license": {
         "expiration": "2020-08-26T02:33:40.218Z",
         "limit": {
          "maxEndpointCount": 30,
          "maxMobileEndpointCount": 0
         }
        },
        "mobileEndpointsCount": 0,
        "name": "Hotel Grand Pacific",
        "regularEndpointsCount": 28,
        "users": []
       },
       {
        "created": "2019-09-12T14:22:04.975Z",
        "deleted": false,
        "description": "For Ransomware Protection Policy",
        "endpointCount": 8,
        "endpointNamesPreview": [
         "IHUBVLS",
         "IHUB-APP02",
         "IHUB-DC02"
        ],
        "id": "510438932375142407",
        "mobileEndpointsCount": 0,
        "name": "iHub - Servers & VMs",
        "parent": "471350445353205767",
        "regularEndpointsCount": 8,
        "users": []
       },
       {
        "created": "2019-05-27T17:38:23.440Z",
        "deleted": false,
        "endpointCount": 49,
        "endpointNamesPreview": [
         "ITPC2018-MHAE",
         "PC0519-KELLY",
         "PC0519-AMINAH"
        ],
        "id": "471350445353205767",
        "license": {
         "expiration": "2020-06-22T17:37:32.291Z",
         "limit": {
          "maxEndpointCount": 50,
          "maxMobileEndpointCount": 0
         }
        },
        "mobileEndpointsCount": 0,
        "name": "iHub Solutions",
        "regularEndpointsCount": 49,
        "users": [
         {
          "createdAt": "2019-06-11T06:14:40.121Z",
          "createdBy": "roydon.teo@csintelligence.asia",
          "createdByClientId": "471350445353205767",
          "enabled": true,
          "firstName": "Mhae",
          "id": 40,
          "lastLogin": "2019-10-07T02:50:45.273Z",
          "lastName": "Sagun-Anonuevo",
          "lastSeenChangelog": null,
          "level": null,
          "required2fa": null,
          "role": {
           "id": 5,
           "name": "Restricted Analyst",
           "permissions": [
            {
             "id": 8,
             "name": "READ_RESTRICTED",
             "rolespermissions": {
              "createdAt": "2019-01-18T07:41:07.826Z",
              "permissionId": 8,
              "roleId": 5,
              "updatedAt": "2019-01-18T07:41:07.826Z"
             }
            },
            {
             "id": 11,
             "name": "READ_REPORTS_RESTRICTED",
             "rolespermissions": {
              "createdAt": "2019-01-18T07:41:08.729Z",
              "permissionId": 11,
              "roleId": 5,
              "updatedAt": "2019-01-18T07:41:08.729Z"
             }
            }
           ]
          },
          "roleId": 5,
          "updatedAt": "2019-10-07T02:50:45.273Z",
          "username": "it@ihubsolutions.com",
          "usersgroups": {
           "createdAt": "2019-06-11T06:14:40.474Z",
           "groupId": 9,
           "updatedAt": "2019-06-11T06:14:40.474Z",
           "userId": 40
          },
          "usingTempPassword": null
         }
        ]
       },
       {
        "created": "2019-09-20T06:52:26.579Z",
        "deleted": false,
        "endpointCount": 9,
        "endpointNamesPreview": [
         "LT1118-MARK",
         "PC2018-IVAN",
         "LT0119-KENNY"
        ],
        "id": "513224879705686023",
        "mobileEndpointsCount": 0,
        "name": "iHub Whitelist - msdt.exe",
        "parent": "471350445353205767",
        "regularEndpointsCount": 9,
        "users": []
       },
       {
        "created": "2019-09-20T06:57:07.129Z",
        "deleted": false,
        "endpointCount": 3,
        "endpointNamesPreview": [
         "LT1118-CECILIA",
         "LT1118-MARK",
         "ITLT0119-CAESAR"
        ],
        "id": "513226056417673223",
        "mobileEndpointsCount": 0,
        "name": "iHub Whitelist - svchost.exe",
        "parent": "471350445353205767",
        "regularEndpointsCount": 3,
        "users": []
       },
       {
        "created": "2019-05-27T09:26:25.503Z",
        "deleted": false,
        "endpointCount": 9,
        "endpointNamesPreview": [
         "KKSG-PC003",
         "KKSG-PC005",
         "KKSG-PC006"
        ],
        "id": "471226638151974919",
        "mobileEndpointsCount": 0,
        "name": "Kambara Kisen",
        "parent": "467685920577945607",
        "regularEndpointsCount": 9,
        "users": []
       },
       {
        "created": "2019-12-24T13:55:30.123Z",
        "deleted": false,
        "endpointCount": 54,
        "endpointNamesPreview": [
         "NB403SG",
         "DESKTOP-7PT8U3C",
         "STN631SG"
        ],
        "id": "547758193237819399",
        "license": {
         "expiration": "2021-01-26T13:55:22.002Z",
         "limit": {
          "maxEndpointCount": 400,
          "maxMobileEndpointCount": 0
         }
        },
        "mobileEndpointsCount": 0,
        "name": "Mentor Media Ltd",
        "regularEndpointsCount": 54,
        "users": [
         {
          "createdAt": "2019-12-26T02:19:49.705Z",
          "createdBy": "sandy.ng@csintelligence.asia",
          "createdByClientId": "547758193237819399",
          "enabled": true,
          "firstName": "Wesley",
          "id": 45,
          "lastLogin": "2019-12-26T08:31:36.874Z",
          "lastName": "Liao",
          "lastSeenChangelog": "2019-06-03T16:00:00.000Z",
          "level": null,
          "required2fa": null,
          "role": {
           "id": 5,
           "name": "Restricted Analyst",
           "permissions": [
            {
             "id": 8,
             "name": "READ_RESTRICTED",
             "rolespermissions": {
              "createdAt": "2019-01-18T07:41:07.826Z",
              "permissionId": 8,
              "roleId": 5,
              "updatedAt": "2019-01-18T07:41:07.826Z"
             }
            },
            {
             "id": 11,
             "name": "READ_REPORTS_RESTRICTED",
             "rolespermissions": {
              "createdAt": "2019-01-18T07:41:08.729Z",
              "permissionId": 11,
              "roleId": 5,
              "updatedAt": "2019-01-18T07:41:08.729Z"
             }
            }
           ]
          },
          "roleId": 5,
          "updatedAt": "2019-12-26T08:34:30.198Z",
          "username": "wesley_liao@mentormedia.com",
          "usersgroups": {
           "createdAt": "2019-12-26T02:19:50.067Z",
           "groupId": 37,
           "updatedAt": "2019-12-26T02:19:50.067Z",
           "userId": 45
          },
          "usingTempPassword": false
         }
        ]
       },
       {
        "created": "2019-12-26T01:49:08.449Z",
        "deleted": false,
        "endpointCount": 0,
        "endpointNamesPreview": [],
        "id": "548300174179434503",
        "mobileEndpointsCount": 0,
        "name": "SG - hpam",
        "parent": "547758193237819399",
        "regularEndpointsCount": 0,
        "users": []
       },
       {
        "created": "2019-12-26T01:47:57.824Z",
        "deleted": false,
        "endpointCount": 16,
        "endpointNamesPreview": [
         "DESKTOP-7PT8U3C",
         "NB466SG",
         "RYDOPS014"
        ],
        "id": "548299877956714503",
        "mobileEndpointsCount": 0,
        "name": "SG - jw",
        "parent": "547758193237819399",
        "regularEndpointsCount": 16,
        "users": []
       },
       {
        "created": "2019-12-26T01:36:52.866Z",
        "deleted": false,
        "endpointCount": 31,
        "endpointNamesPreview": [
         "NB356SG",
         "NB364SG",
         "NB403SG"
        ],
        "id": "548297088920715271",
        "mobileEndpointsCount": 0,
        "name": "SG - mmh",
        "parent": "547758193237819399",
        "regularEndpointsCount": 31,
        "users": []
       },
       {
        "created": "2019-12-26T01:38:15.538Z",
        "deleted": false,
        "endpointCount": 4,
        "endpointNamesPreview": [
         "STN563SG",
         "NB380SG",
         "NB430SG"
        ],
        "id": "548297435672215559",
        "mobileEndpointsCount": 0,
        "name": "SG - pj",
        "parent": "547758193237819399",
        "regularEndpointsCount": 4,
        "users": []
       },
       {
        "created": "2019-12-26T01:38:51.045Z",
        "deleted": false,
        "endpointCount": 3,
        "endpointNamesPreview": [
         "STN631SG",
         "OPS008",
         "STN644SG"
        ],
        "id": "548297584599367687",
        "mobileEndpointsCount": 0,
        "name": "SG - pj_aruba",
        "parent": "547758193237819399",
        "regularEndpointsCount": 3,
        "users": []
       },
       {
        "created": "2019-12-25T16:28:55.497Z",
        "deleted": false,
        "endpointCount": 54,
        "endpointNamesPreview": [
         "NB403SG",
         "DESKTOP-7PT8U3C",
         "STN631SG"
        ],
        "id": "548159191240409095",
        "mobileEndpointsCount": 0,
        "name": "Singapore",
        "parent": "547758193237819399",
        "regularEndpointsCount": 54,
        "users": []
       },
       {
        "created": "2019-10-29T06:02:09.012Z",
        "deleted": false,
        "endpointCount": 11,
        "endpointNamesPreview": [
         "DESKTOP-J9DKAF9",
         "CORINA-SURFACE",
         "CORINA-LAPTOP"
        ],
        "id": "527345349870747655",
        "license": {
         "expiration": "2020-12-01T06:02:00.772Z",
         "limit": {
          "maxEndpointCount": 24,
          "maxMobileEndpointCount": 1
         }
        },
        "mobileEndpointsCount": 1,
        "name": "Solas Fiduciary Services",
        "regularEndpointsCount": 10,
        "users": []
       },
       {
        "created": "2019-05-27T09:24:35.577Z",
        "deleted": false,
        "endpointCount": 66,
        "endpointNamesPreview": [
         "EUNICE-PC",
         "LINDALIM",
         "UMMSDTPUR04"
        ],
        "id": "471226177088913415",
        "mobileEndpointsCount": 0,
        "name": "UMMS",
        "parent": "467685920577945607",
        "regularEndpointsCount": 66,
        "users": []
       },
       {
        "created": "2019-12-26T03:38:57.110Z",
        "deleted": false,
        "endpointCount": 1,
        "endpointNamesPreview": [
         "ALLAN"
        ],
        "id": "548327809026621447",
        "mobileEndpointsCount": 0,
        "name": "UMMS Blacklist - niqkund64.exe",
        "parent": "467685920577945607",
        "regularEndpointsCount": 1,
        "users": []
       },
       {
        "created": "2019-12-27T23:50:09.683Z",
        "deleted": false,
        "endpointCount": 1,
        "endpointNamesPreview": [
         "ALLAN"
        ],
        "id": "548995007755845639",
        "mobileEndpointsCount": 0,
        "name": "UMMS Blacklist - wscript.exe & powershell.exe",
        "parent": "467685920577945607",
        "regularEndpointsCount": 1,
        "users": []
       },
       {
        "created": "2019-09-20T06:21:35.213Z",
        "deleted": false,
        "endpointCount": 17,
        "endpointNamesPreview": [
         "AMESLT-SUBRAT",
         "UMMSDTMUD04",
         "AMESLT-PAGRWL"
        ],
        "id": "513217114513866759",
        "mobileEndpointsCount": 0,
        "name": "UMMS Whitelist - msdt.exe",
        "parent": "467685920577945607",
        "regularEndpointsCount": 17,
        "users": []
       },
       {
        "created": "2019-09-20T06:39:24.129Z",
        "deleted": false,
        "endpointCount": 4,
        "endpointNamesPreview": [
         "GISSELLE",
         "UMMSDTPUR05",
         "PC0KVZHG"
        ],
        "id": "513221597872521223",
        "mobileEndpointsCount": 0,
        "name": "UMMS Whitelist - svchost.exe",
        "parent": "467685920577945607",
        "regularEndpointsCount": 4,
        "users": []
       },
       {
        "created": "2019-05-17T14:56:52.650Z",
        "deleted": false,
        "endpointCount": 75,
        "endpointNamesPreview": [
         "EUNICE-PC",
         "LINDALIM",
         "KKSG-PC003"
        ],
        "id": "467685920577945607",
        "license": {
         "expiration": "2020-05-21T14:56:23.687Z",
         "limit": {
          "maxEndpointCount": 75,
          "maxMobileEndpointCount": 0
         }
        },
        "mobileEndpointsCount": 0,
        "name": "Union Marine",
        "regularEndpointsCount": 75,
        "users": [
         {
          "createdAt": "2019-05-28T08:08:29.337Z",
          "createdBy": "sengjuan.pang@csintelligence.asia",
          "createdByClientId": "467685920577945607",
          "enabled": true,
          "firstName": "Can-Peter",
          "id": 35,
          "lastLogin": "2019-10-28T06:02:22.927Z",
          "lastName": "Meier",
          "lastSeenChangelog": "2019-06-03T16:00:00.000Z",
          "level": null,
          "required2fa": null,
          "role": {
           "id": 5,
           "name": "Restricted Analyst",
           "permissions": [
            {
             "id": 8,
             "name": "READ_RESTRICTED",
             "rolespermissions": {
              "createdAt": "2019-01-18T07:41:07.826Z",
              "permissionId": 8,
              "roleId": 5,
              "updatedAt": "2019-01-18T07:41:07.826Z"
             }
            },
            {
             "id": 11,
             "name": "READ_REPORTS_RESTRICTED",
             "rolespermissions": {
              "createdAt": "2019-01-18T07:41:08.729Z",
              "permissionId": 11,
              "roleId": 5,
              "updatedAt": "2019-01-18T07:41:08.729Z"
             }
            }
           ]
          },
          "roleId": 5,
          "updatedAt": "2019-10-28T06:02:22.928Z",
          "username": "can.peter@abbeyfieldmorgenstern.com",
          "usersgroups": {
           "createdAt": "2019-05-28T08:08:29.695Z",
           "groupId": 5,
           "updatedAt": "2019-05-28T08:08:29.695Z",
           "userId": 35
          },
          "usingTempPassword": false
         },
         {
          "createdAt": "2019-05-28T10:17:56.170Z",
          "createdBy": "sengjuan.pang@csintelligence.asia",
          "createdByClientId": "467685920577945607",
          "enabled": true,
          "firstName": "Samarth",
          "id": 36,
          "lastLogin": "2019-12-13T05:01:36.651Z",
          "lastName": "Mathur",
          "lastSeenChangelog": null,
          "level": null,
          "required2fa": null,
          "role": {
           "id": 5,
           "name": "Restricted Analyst",
           "permissions": [
            {
             "id": 8,
             "name": "READ_RESTRICTED",
             "rolespermissions": {
              "createdAt": "2019-01-18T07:41:07.826Z",
              "permissionId": 8,
              "roleId": 5,
              "updatedAt": "2019-01-18T07:41:07.826Z"
             }
            },
            {
             "id": 11,
             "name": "READ_REPORTS_RESTRICTED",
             "rolespermissions": {
              "createdAt": "2019-01-18T07:41:08.729Z",
              "permissionId": 11,
              "roleId": 5,
              "updatedAt": "2019-01-18T07:41:08.729Z"
             }
            }
           ]
          },
          "roleId": 5,
          "updatedAt": "2019-12-13T05:01:36.651Z",
          "username": "u266801@unimarships.com",
          "usersgroups": {
           "createdAt": "2019-05-28T10:17:56.513Z",
           "groupId": 5,
           "updatedAt": "2019-05-28T10:17:56.513Z",
           "userId": 36
          },
          "usingTempPassword": null
         },
         {
          "createdAt": "2019-05-29T12:10:54.152Z",
          "createdBy": "roydon.teo@csintelligence.asia",
          "createdByClientId": "467685920577945607",
          "enabled": true,
          "firstName": "Amit",
          "id": 38,
          "lastLogin": "2019-08-27T08:41:21.074Z",
          "lastName": "Sharma",
          "lastSeenChangelog": null,
          "level": null,
          "required2fa": null,
          "role": {
           "id": 5,
           "name": "Restricted Analyst",
           "permissions": [
            {
             "id": 8,
             "name": "READ_RESTRICTED",
             "rolespermissions": {
              "createdAt": "2019-01-18T07:41:07.826Z",
              "permissionId": 8,
              "roleId": 5,
              "updatedAt": "2019-01-18T07:41:07.826Z"
             }
            },
            {
             "id": 11,
             "name": "READ_REPORTS_RESTRICTED",
             "rolespermissions": {
              "createdAt": "2019-01-18T07:41:08.729Z",
              "permissionId": 11,
              "roleId": 5,
              "updatedAt": "2019-01-18T07:41:08.729Z"
             }
            }
           ]
          },
          "roleId": 5,
          "updatedAt": "2019-08-27T08:41:21.074Z",
          "username": "amitsharma@unimarships.com",
          "usersgroups": {
           "createdAt": "2019-05-29T12:10:54.508Z",
           "groupId": 5,
           "updatedAt": "2019-05-29T12:10:54.508Z",
           "userId": 38
          },
          "usingTempPassword": null
         }
        ]
       },
       {
        "created": "2019-07-19T04:12:16.695Z",
        "deleted": false,
        "description": "cmd.exe to tasklist",
        "endpointCount": 5,
        "endpointNamesPreview": [
         "ITPC2018-ALBIN",
         "ITLT0119-CAESAR",
         "ITPC2018-MHAE"
        ],
        "id": "490354137397985287",
        "mobileEndpointsCount": 0,
        "name": "Whitelist - cmd.exe",
        "parent": "471350445353205767",
        "regularEndpointsCount": 5,
        "users": []
       },
       {
        "created": "2019-07-19T03:36:17.956Z",
        "deleted": false,
        "description": "pcupload.vbs",
        "endpointCount": 1,
        "endpointNamesPreview": [
         "WMS"
        ],
        "id": "490345082990362631",
        "mobileEndpointsCount": 0,
        "name": "Whitelist - wscript.exe",
        "parent": "471350445353205767",
        "regularEndpointsCount": 1,
        "users": []
       }
      ],
      "text/plain": [
       "<IPython.core.display.JSON object>"
      ]
     },
     "execution_count": 7,
     "metadata": {
      "application/json": {
       "expanded": false,
       "root": "root"
      }
     },
     "output_type": "execute_result"
    }
   ],
   "source": [
    "companies = get_groups(server)\n",
    "display.JSON(companies)"
   ]
  },
  {
   "cell_type": "code",
   "execution_count": 8,
   "metadata": {},
   "outputs": [
    {
     "name": "stdout",
     "output_type": "stream",
     "text": [
      "Found malicious incidents for: Blacklist powershell\n",
      "Found malicious incidents for: Blacklist Powershell\n",
      "Found malicious incidents for: Deluge Fire Protection (SEA) Pte Ltd\n",
      "Found malicious incidents for: UMMS\n",
      "Found malicious incidents for: UMMS Blacklist - niqkund64.exe\n",
      "Found malicious incidents for: UMMS Blacklist - wscript.exe & powershell.exe\n",
      "Found malicious incidents for: UMMS Whitelist - msdt.exe\n",
      "Found malicious incidents for: Union Marine\n"
     ]
    }
   ],
   "source": [
    "malicious_incident_list = []\n",
    "\n",
    "for group in companies:\n",
    "    incidents = get_malicious_incidents(server, group)\n",
    "    if incidents != []:\n",
    "        print(\"Found malicious incidents for: {}\".format(group[\"name\"]))"
   ]
  },
  {
   "cell_type": "code",
   "execution_count": null,
   "metadata": {},
   "outputs": [],
   "source": []
  }
 ],
 "metadata": {
  "kernelspec": {
   "display_name": "Python 3",
   "language": "python",
   "name": "python3"
  },
  "language_info": {
   "codemirror_mode": {
    "name": "ipython",
    "version": 3
   },
   "file_extension": ".py",
   "mimetype": "text/x-python",
   "name": "python",
   "nbconvert_exporter": "python",
   "pygments_lexer": "ipython3",
   "version": "3.7.4"
  }
 },
 "nbformat": 4,
 "nbformat_minor": 4
}
